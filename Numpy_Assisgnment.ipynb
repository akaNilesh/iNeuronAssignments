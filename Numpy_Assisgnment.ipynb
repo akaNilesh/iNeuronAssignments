{
 "cells": [
  {
   "cell_type": "code",
   "execution_count": 50,
   "id": "4154e1bc",
   "metadata": {},
   "outputs": [],
   "source": [
    "#Part A\n",
    "import numpy as np\n",
    "\n",
    "def monde(lists,increasing=False):\n",
    "    \n",
    "    size=len(lists)\n",
    "    listelements = np.array(lists)\n",
    "    elements=np.array([])\n",
    "    \n",
    "    if increasing == False:\n",
    "        for i in reversed(range(size)):\n",
    "            elements=np.append(elements,listelements**i)\n",
    "        return elements.reshape(size,size,order='F')\n",
    "    elif increasing == True:\n",
    "        for i in range(size):\n",
    "            elements=np.append(elements,listelements**i)\n",
    "        return elements.reshape(size,size,order='F')"
   ]
  },
  {
   "cell_type": "code",
   "execution_count": 55,
   "id": "2ce2dd34",
   "metadata": {},
   "outputs": [
    {
     "data": {
      "text/plain": [
       "array([[ 64.,  16.,   4.,   1.],\n",
       "       [125.,  25.,   5.,   1.],\n",
       "       [216.,  36.,   6.,   1.],\n",
       "       [512.,  64.,   8.,   1.]])"
      ]
     },
     "execution_count": 55,
     "metadata": {},
     "output_type": "execute_result"
    }
   ],
   "source": [
    "monde([4,5,6,8],True)\n",
    "monde([4,5,6,8],False)"
   ]
  },
  {
   "cell_type": "code",
   "execution_count": 61,
   "id": "9815e72e",
   "metadata": {},
   "outputs": [],
   "source": [
    "#Part B\n",
    "def movingavg(listofnumbers, moving_avg_window):\n",
    "    arr = np.array(listofnumbers)\n",
    "    resultarr=[]\n",
    "    for i in range(len(arr)-moving_avg_window+1):\n",
    "        k=i\n",
    "        result=0\n",
    "        while k < moving_avg_window+i:\n",
    "            result=result+arr[k]\n",
    "            k+=1\n",
    "        resultarr.append(result/moving_avg_window)\n",
    "    print(resultarr)"
   ]
  },
  {
   "cell_type": "code",
   "execution_count": 62,
   "id": "6df9fc0c",
   "metadata": {},
   "outputs": [
    {
     "name": "stdout",
     "output_type": "stream",
     "text": [
      "[5.0, 4.666666666666667, 5.666666666666667, 6.666666666666667, 9.666666666666666, 28.666666666666668, 49.333333333333336, 72.66666666666667, 84.0, 93.33333333333333, 116.33333333333333]\n"
     ]
    }
   ],
   "source": [
    "movingavg([3, 5, 7, 2, 8, 10, 11, 65, 72, 81, 99, 100, 150],3)"
   ]
  },
  {
   "cell_type": "code",
   "execution_count": null,
   "id": "70809f99",
   "metadata": {},
   "outputs": [],
   "source": []
  }
 ],
 "metadata": {
  "kernelspec": {
   "display_name": "Python 3",
   "language": "python",
   "name": "python3"
  },
  "language_info": {
   "codemirror_mode": {
    "name": "ipython",
    "version": 3
   },
   "file_extension": ".py",
   "mimetype": "text/x-python",
   "name": "python",
   "nbconvert_exporter": "python",
   "pygments_lexer": "ipython3",
   "version": "3.8.1"
  }
 },
 "nbformat": 4,
 "nbformat_minor": 5
}
