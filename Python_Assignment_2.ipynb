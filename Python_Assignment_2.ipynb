{
 "cells": [
  {
   "cell_type": "code",
   "execution_count": 65,
   "id": "90fd01c6",
   "metadata": {},
   "outputs": [],
   "source": [
    "# Python Assignment 2\n",
    "# Part A"
   ]
  },
  {
   "cell_type": "code",
   "execution_count": 64,
   "id": "df583c74",
   "metadata": {},
   "outputs": [
    {
     "name": "stdout",
     "output_type": "stream",
     "text": [
      "*\n",
      "**\n",
      "***\n",
      "****\n",
      "*****\n",
      "******\n",
      "*****\n",
      "****\n",
      "***\n",
      "**\n",
      "*\n"
     ]
    }
   ],
   "source": [
    "rows=9\n",
    "for i in range(0, int((rows+1)/2)):\n",
    "    for k in range(0, i+1):\n",
    "        print(\"*\",end=\"\")\n",
    "    print(\"\")\n",
    "for l in range(int((rows+1)/2)+1, 0, -1):\n",
    "    for m in range(0, l):\n",
    "        print(\"*\", end=\"\")\n",
    "    print(\"\")"
   ]
  },
  {
   "cell_type": "code",
   "execution_count": 67,
   "id": "c8eabd38",
   "metadata": {},
   "outputs": [],
   "source": [
    "# Part B"
   ]
  },
  {
   "cell_type": "code",
   "execution_count": 1,
   "id": "33248c73",
   "metadata": {},
   "outputs": [
    {
     "name": "stdout",
     "output_type": "stream",
     "text": [
      "Enter your text ineuron\n",
      "norueni"
     ]
    }
   ],
   "source": [
    "text = input('Enter your text ')\n",
    "textlen = len(text)\n",
    "array =[]\n",
    "for i in range(textlen):\n",
    "    array.append(text[textlen-1])\n",
    "    textlen = textlen-1\n",
    "for item in array:\n",
    "    print(item, end='')"
   ]
  },
  {
   "cell_type": "code",
   "execution_count": null,
   "id": "9899ca13",
   "metadata": {},
   "outputs": [],
   "source": []
  }
 ],
 "metadata": {
  "kernelspec": {
   "display_name": "Python 3",
   "language": "python",
   "name": "python3"
  },
  "language_info": {
   "codemirror_mode": {
    "name": "ipython",
    "version": 3
   },
   "file_extension": ".py",
   "mimetype": "text/x-python",
   "name": "python",
   "nbconvert_exporter": "python",
   "pygments_lexer": "ipython3",
   "version": "3.8.1"
  }
 },
 "nbformat": 4,
 "nbformat_minor": 5
}
