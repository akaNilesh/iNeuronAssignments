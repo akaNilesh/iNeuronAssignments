{
 "cells": [
  {
   "cell_type": "code",
   "execution_count": 28,
   "id": "160c6509",
   "metadata": {},
   "outputs": [],
   "source": [
    "#Python Assignment 4"
   ]
  },
  {
   "cell_type": "code",
   "execution_count": 60,
   "id": "5b8df498",
   "metadata": {},
   "outputs": [],
   "source": [
    "#Part 1.1\n",
    "class Sides:\n",
    "    \n",
    "    def __init__(self,sideA,sideB,sideC):\n",
    "        self.sideA=sideA\n",
    "        self.sideB=sideB\n",
    "        self.sideC=sideC\n",
    "    \n",
    "#     def sidesoftriangle(self):\n",
    "#         sideA = int(input(\"Enter side A length\"))\n",
    "#         sideB = int(input(\"Enter side B length\"))\n",
    "#         sideC = int(input(\"Enter side C length\"))\n",
    "#         return{\"sideA\":sideA, \"sideB\":sideB, \"sideC\":sideC}"
   ]
  },
  {
   "cell_type": "code",
   "execution_count": 73,
   "id": "c397270d",
   "metadata": {},
   "outputs": [
    {
     "name": "stdout",
     "output_type": "stream",
     "text": [
      "The total area of the given traingle is 351.47323866832306\n"
     ]
    },
    {
     "data": {
      "text/plain": [
       "351.47323866832306"
      ]
     },
     "execution_count": 73,
     "metadata": {},
     "output_type": "execute_result"
    }
   ],
   "source": [
    "class Area(Sides):\n",
    "    \n",
    "      \n",
    "    def AreaTri(self):\n",
    "        s = (self.sideA + self.sideB + self.sideC)/2\n",
    "        finalarea = (s*(s-self.sideA)*(s-self.sideB)*(s-self.sideC)) ** 0.5\n",
    "        print(f\"The total area of the given traingle is {finalarea}\")\n",
    "        return finalarea\n",
    "    \n",
    "    \n",
    "\n",
    "obj1 = Area(22,33,44)\n",
    "obj1.AreaTri()"
   ]
  },
  {
   "cell_type": "code",
   "execution_count": 83,
   "id": "28226486",
   "metadata": {},
   "outputs": [
    {
     "name": "stdout",
     "output_type": "stream",
     "text": [
      "['laptop', 'bottle', 'jethalal', 'bottom']\n"
     ]
    },
    {
     "data": {
      "text/plain": [
       "['laptop', 'bottle', 'jethalal', 'bottom']"
      ]
     },
     "execution_count": 83,
     "metadata": {},
     "output_type": "execute_result"
    }
   ],
   "source": [
    "#Part 1.2\n",
    "\n",
    "def filter_long_words(limitingint, listofwords ):\n",
    "    filterdlist = []\n",
    "    for i in listofnumbers:\n",
    "        if len(i)>limitingint:\n",
    "            filterdlist.append(i)\n",
    "    return filterdlist\n",
    "    \n",
    "filter_long_words(5,['laptop','bottle','table','jethalal', 'top','bottom'])"
   ]
  },
  {
   "cell_type": "code",
   "execution_count": 85,
   "id": "6b92ce0b",
   "metadata": {},
   "outputs": [
    {
     "name": "stdout",
     "output_type": "stream",
     "text": [
      "[6, 6, 5, 8, 3, 6]\n"
     ]
    }
   ],
   "source": [
    "#Part 2.1\n",
    "\n",
    "def customMapper(listofwords):\n",
    "    mappedlist=[]\n",
    "    for i in listofwords:\n",
    "        mappedlist.append(len(i))\n",
    "    retun mappedlist\n",
    "   \n",
    "customMapper(['laptop','bottle','table','jethalal', 'top','bottom'])"
   ]
  },
  {
   "cell_type": "code",
   "execution_count": 95,
   "id": "865a41ca",
   "metadata": {},
   "outputs": [
    {
     "name": "stdout",
     "output_type": "stream",
     "text": [
      "Enter your character 1\n"
     ]
    },
    {
     "data": {
      "text/plain": [
       "False"
      ]
     },
     "execution_count": 95,
     "metadata": {},
     "output_type": "execute_result"
    }
   ],
   "source": [
    "#Part 2.2\n",
    "\n",
    "def isVowel():\n",
    "    char = input(\"Enter your character \")\n",
    "    if len(char)>=2:\n",
    "        return (\"Please enter a single character\")\n",
    "    elif char in ('a','e','i','o','u'):\n",
    "        return True\n",
    "    else: \n",
    "        return False\n",
    "isVowel()"
   ]
  }
 ],
 "metadata": {
  "kernelspec": {
   "display_name": "Python 3",
   "language": "python",
   "name": "python3"
  },
  "language_info": {
   "codemirror_mode": {
    "name": "ipython",
    "version": 3
   },
   "file_extension": ".py",
   "mimetype": "text/x-python",
   "name": "python",
   "nbconvert_exporter": "python",
   "pygments_lexer": "ipython3",
   "version": "3.8.1"
  }
 },
 "nbformat": 4,
 "nbformat_minor": 5
}
